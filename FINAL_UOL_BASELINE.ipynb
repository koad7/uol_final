{
  "nbformat": 4,
  "nbformat_minor": 0,
  "metadata": {
    "colab": {
      "provenance": [],
      "gpuType": "T4",
      "collapsed_sections": [
        "6fmVC-4-ODoL",
        "2qD4GMtR7zfa",
        "BX3G_WPoc5eT",
        "aV--cR0KHeMu",
        "qWIjPA8qc_wN",
        "2yJ3bBsl-jQ4",
        "pToPJhYwcOzL",
        "AUD2-Qjmus3f",
        "yfnydPLBvwCf"
      ],
      "toc_visible": true,
      "authorship_tag": "ABX9TyNUqdSmuxX3O21xPbLvug/3",
      "include_colab_link": true
    },
    "kernelspec": {
      "name": "python3",
      "display_name": "Python 3"
    },
    "language_info": {
      "name": "python"
    },
    "accelerator": "GPU"
  },
  "cells": [
    {
      "cell_type": "markdown",
      "metadata": {
        "id": "view-in-github",
        "colab_type": "text"
      },
      "source": [
        "<a href=\"https://colab.research.google.com/github/koad7/uol_final/blob/main/FINAL_UOL_BASELINE.ipynb\" target=\"_parent\"><img src=\"https://colab.research.google.com/assets/colab-badge.svg\" alt=\"Open In Colab\"/></a>"
      ]
    },
    {
      "cell_type": "code",
      "execution_count": 24,
      "metadata": {
        "id": "O7m8lrqNReRC",
        "colab": {
          "base_uri": "https://localhost:8080/"
        },
        "outputId": "9866e8ad-a2ad-459a-ff33-fc64aaa2a163"
      },
      "outputs": [
        {
          "output_type": "stream",
          "name": "stdout",
          "text": [
            "\u001b[2K     \u001b[90m━━━━━━━━━━━━━━━━━━━━━━━━━━━━━━━━━━━━━━━━\u001b[0m \u001b[32m7.6/7.6 MB\u001b[0m \u001b[31m66.6 MB/s\u001b[0m eta \u001b[36m0:00:00\u001b[0m\n",
            "\u001b[2K     \u001b[90m━━━━━━━━━━━━━━━━━━━━━━━━━━━━━━━━━━━━━━\u001b[0m \u001b[32m295.0/295.0 kB\u001b[0m \u001b[31m33.0 MB/s\u001b[0m eta \u001b[36m0:00:00\u001b[0m\n",
            "\u001b[2K     \u001b[90m━━━━━━━━━━━━━━━━━━━━━━━━━━━━━━━━━━━━━━━━\u001b[0m \u001b[32m7.8/7.8 MB\u001b[0m \u001b[31m110.1 MB/s\u001b[0m eta \u001b[36m0:00:00\u001b[0m\n",
            "\u001b[2K     \u001b[90m━━━━━━━━━━━━━━━━━━━━━━━━━━━━━━━━━━━━━━━━\u001b[0m \u001b[32m1.3/1.3 MB\u001b[0m \u001b[31m31.9 MB/s\u001b[0m eta \u001b[36m0:00:00\u001b[0m\n",
            "\u001b[2K     \u001b[90m━━━━━━━━━━━━━━━━━━━━━━━━━━━━━━━━━━━━━━━━\u001b[0m \u001b[32m2.0/2.0 MB\u001b[0m \u001b[31m12.5 MB/s\u001b[0m eta \u001b[36m0:00:00\u001b[0m\n",
            "\u001b[?25h"
          ]
        }
      ],
      "source": [
        "!pip install -q  transformers\n",
        "!pip install -q nltk node2vec\n",
        "!pip install -q haversine\n",
        "!pip  install -q optuna"
      ]
    },
    {
      "cell_type": "code",
      "source": [
        "from pathlib import Path\n",
        "from google.colab import drive\n",
        "import os\n",
        "import pandas as pd\n",
        "import re\n",
        "import networkx as nx\n",
        "import matplotlib.pyplot as plt\n",
        "import networkx as nx\n",
        "import requests\n",
        "import pickle\n",
        "import copy\n",
        "import numpy as np\n",
        "import gc"
      ],
      "metadata": {
        "id": "AZ2xgLnCRojn"
      },
      "execution_count": 1,
      "outputs": []
    },
    {
      "cell_type": "code",
      "source": [
        "if not os.path.exists('/content/drive'):\n",
        "    drive.mount('/content/drive')"
      ],
      "metadata": {
        "colab": {
          "base_uri": "https://localhost:8080/"
        },
        "id": "ox6P-n_2Rtyl",
        "outputId": "03b6abc6-494b-45bf-f138-9bd23551dc80"
      },
      "execution_count": 2,
      "outputs": [
        {
          "output_type": "stream",
          "name": "stdout",
          "text": [
            "Mounted at /content/drive\n"
          ]
        }
      ]
    },
    {
      "cell_type": "code",
      "source": [
        "DATA_DIR=Path('/content/drive/MyDrive/MSc_DATA_SCIENCE/FINAL_PROJECT/f_work/data/')\n",
        "FINAL_DIR=Path('/content/drive/MyDrive/MSc_DATA_SCIENCE/FINAL_PROJECT/f_work/data/final_work')\n",
        "WORKDIR_DIR=Path('/content/drive/MyDrive/MSc_DATA_SCIENCE/FINAL_PROJECT/f_work/')"
      ],
      "metadata": {
        "id": "cytWzMs_RuHf"
      },
      "execution_count": 3,
      "outputs": []
    },
    {
      "cell_type": "code",
      "source": [
        "what = 'read'\n",
        "if what == 'read':\n",
        "  train_10_15 = pd.read_parquet(f'{FINAL_DIR}/training_testing_val_10_15_20_25_40_50_80_90/train_10_15.parquet')\n",
        "  test_10_15 = pd.read_parquet(f'{FINAL_DIR}/training_testing_val_10_15_20_25_40_50_80_90/test_10_15.parquet')\n",
        "  val_10_15 = pd.read_parquet(f'{FINAL_DIR}/training_testing_val_10_15_20_25_40_50_80_90/val_10_15.parquet')\n"
      ],
      "metadata": {
        "id": "PToWdYDeSBZt"
      },
      "execution_count": 4,
      "outputs": []
    },
    {
      "cell_type": "code",
      "source": [
        "train_df = train_10_15[[ 'country',\n",
        "        'location','location_latitude',\n",
        "       'location_longitude',  'osm_id',  'region',  'sub_region' ]][:70]\n",
        "val_df = val_10_15[[ 'country',\n",
        "        'location','location_latitude',\n",
        "       'location_longitude',  'osm_id',  'region',  'sub_region' ]][:15]\n",
        "test_df = val_10_15[[ 'country',\n",
        "        'location','location_latitude',\n",
        "       'location_longitude',  'osm_id',  'region',  'sub_region' ]][:15]"
      ],
      "metadata": {
        "id": "NxvKjQVfyLL6"
      },
      "execution_count": 183,
      "outputs": []
    },
    {
      "cell_type": "markdown",
      "source": [
        "# BASELINE MODELS"
      ],
      "metadata": {
        "id": "cT3SOgpxuKOo"
      }
    },
    {
      "cell_type": "markdown",
      "source": [
        "## Create the knowledge graph"
      ],
      "metadata": {
        "id": "8kjnZZoY2286"
      }
    },
    {
      "cell_type": "code",
      "source": [
        "def create_knowledge_graph(df):\n",
        "    G = nx.DiGraph()\n",
        "\n",
        "    for idx, row in df.iterrows():\n",
        "        country = row['country']\n",
        "        location = row['location']\n",
        "        location_latitude = row['location_latitude']\n",
        "        location_longitude = row['location_longitude']\n",
        "        osm_id = row['osm_id']\n",
        "        region = row['region']\n",
        "        sub_region = row['sub_region']\n",
        "\n",
        "\n",
        "        # Add nodes\n",
        "        if pd.notna(country) and country!= '':\n",
        "            G.add_node(country, country=country, type='Country')\n",
        "        if pd.notna(location) and location!= '':\n",
        "            G.add_node(location, location=location, type='Location', osm_id=osm_id)\n",
        "        if pd.notna(location_latitude) and location_latitude!= '':\n",
        "            G.add_node(location_latitude, type='Location_Latitude')\n",
        "        if pd.notna(location_longitude) and location_longitude!= '':\n",
        "            G.add_node(location_longitude, type='Location_Longitude')\n",
        "        if pd.notna(region) and region!= '':\n",
        "            G.add_node(region, region=region, type='Region')\n",
        "        if pd.notna(sub_region) and sub_region!= '':\n",
        "            G.add_node(sub_region, sub_region=sub_region, type='Sub_Region')\n",
        "\n",
        "        # Add edges\n",
        "        if (pd.notna(country) and country!='') and (pd.notna(location) and location!=''):\n",
        "            G.add_edge(country, location, relation='has')\n",
        "        if (pd.notna(location) and location!='') and (pd.notna(location_latitude) and location_latitude!=''):\n",
        "            G.add_edge(location, location_latitude, relation='has_latitude')\n",
        "        if (pd.notna(location) and location!='') and (pd.notna(location_longitude) and location_longitude!=''):\n",
        "            G.add_edge(location, location_longitude, relation='has_longitude')\n",
        "        if (pd.notna(country) and country!='') and (pd.notna(region) and region!=''):\n",
        "            G.add_edge(country, region, relation='is_in')\n",
        "        if (pd.notna(region) and region!='') and (pd.notna(sub_region) and sub_region!=''):\n",
        "            G.add_edge(region, sub_region, relation='is_in')\n",
        "\n",
        "    return G\n",
        "\n",
        "\n",
        "\n",
        "    # Draw the graph"
      ],
      "metadata": {
        "id": "KcrGFcQmSEl0"
      },
      "execution_count": 184,
      "outputs": []
    },
    {
      "cell_type": "code",
      "source": [
        "# Create the Knowledge Graphs\n",
        "train_kg = create_knowledge_graph(train_df)\n",
        "val_kg = create_knowledge_graph(val_df)\n",
        "test_kg = create_knowledge_graph(test_df)"
      ],
      "metadata": {
        "id": "0C5h4orZOm_4"
      },
      "execution_count": 185,
      "outputs": []
    },
    {
      "cell_type": "code",
      "source": [
        "# Testing\n",
        "G = create_knowledge_graph(train_df[:2])\n",
        "nx.draw(G, with_labels=True)\n",
        "plt.show()\n"
      ],
      "metadata": {
        "colab": {
          "base_uri": "https://localhost:8080/",
          "height": 516
        },
        "id": "B-NloOKA2JrY",
        "outputId": "735f854d-1edc-4e2c-be6f-7b7f22c45d7e"
      },
      "execution_count": 187,
      "outputs": [
        {
          "output_type": "display_data",
          "data": {
            "text/plain": [
              "<Figure size 640x480 with 1 Axes>"
            ],
            "image/png": "[encoded data removed]"
          },
          "metadata": {}
        }
      ]
    },
    {
      "cell_type": "code",
      "source": [
        "import torch\n",
        "torch_ver = torch.__version__\n",
        "if 'IS_GRADESCOPE_ENV' not in os.environ:\n",
        "  !pip install -q torch-scatter -f https://pytorch-geometric.com/whl/torch-{torch_ver}.html\n",
        "  !pip install -q torch-sparse -f https://pytorch-geometric.com/whl/torch-{torch_ver}.html\n",
        "  !pip install -q torch-geometric\n",
        "  !pip install -q git+https://github.com/snap-stanford/deepsnap.git\n",
        "  !pip install -q transformers"
      ],
      "metadata": {
        "colab": {
          "base_uri": "https://localhost:8080/"
        },
        "id": "dunjBotpSULp",
        "outputId": "1d9fbd7f-4b84-4855-890d-363637e3afdc"
      },
      "execution_count": 62,
      "outputs": [
        {
          "output_type": "stream",
          "name": "stdout",
          "text": [
            "  Preparing metadata (setup.py) ... \u001b[?25l\u001b[?25hdone\n"
          ]
        }
      ]
    },
    {
      "cell_type": "markdown",
      "source": [
        "## Generate embeddings"
      ],
      "metadata": {
        "id": "TsG_ivXjTLR3"
      }
    },
    {
      "cell_type": "markdown",
      "source": [
        "### Embedding"
      ],
      "metadata": {
        "id": "_pUuc1TyTNwa"
      }
    },
    {
      "cell_type": "code",
      "source": [
        "from transformers import DistilBertTokenizer, DistilBertModel\n",
        "from concurrent.futures import ThreadPoolExecutor, as_completed\n",
        "from queue import Queue\n",
        "from threading import Thread\n",
        "import torch\n",
        "from transformers import DistilBertTokenizer, DistilBertModel\n",
        "import networkx as nx\n",
        "import numpy as np\n",
        "from tqdm import tqdm\n",
        "\n",
        "\n",
        "\n",
        "def generate_kge_with_distilbert(graph):\n",
        "    # Initialize DistilBERT tokenizer and model\n",
        "    tokenizer = DistilBertTokenizer.from_pretrained('distilbert-base-multilingual-cased')\n",
        "    model = DistilBertModel.from_pretrained('distilbert-base-multilingual-cased')\n",
        "\n",
        "    # Dictionary to store embeddings\n",
        "    node_embeddings = {}\n",
        "\n",
        "    # Generate embeddings for each node\n",
        "    for node in graph.nodes():\n",
        "        # Convert node to text (assuming the node is already in string format or convertible to string)\n",
        "        node_text = str(node)\n",
        "\n",
        "        # Tokenize and generate output\n",
        "        inputs = tokenizer(node_text, return_tensors=\"pt\", padding=True, truncation=True)\n",
        "        outputs = model(**inputs)\n",
        "\n",
        "        # Extract the hidden state for the [CLS] token (first token)\n",
        "        cls_embedding = outputs.last_hidden_state[:, 0, :].squeeze().detach().numpy()\n",
        "\n",
        "        # Store the embedding\n",
        "        node_embeddings[node] = cls_embedding\n",
        "\n",
        "    return node_embeddings\n",
        "\n",
        "\n"
      ],
      "metadata": {
        "id": "vzfh4a-HTIY8"
      },
      "execution_count": 85,
      "outputs": []
    },
    {
      "cell_type": "code",
      "source": [
        "train_emb = generate_kge_with_distilbert(train_kg)\n",
        "val_emb = generate_kge_with_distilbert(val_kg)\n",
        "test_emb = generate_kge_with_distilbert(test_kg)"
      ],
      "metadata": {
        "id": "Ji39R-qYOsKA"
      },
      "execution_count": 86,
      "outputs": []
    },
    {
      "cell_type": "code",
      "source": [
        "val_emb['Ukraine']"
      ],
      "metadata": {
        "id": "ocRBAYQ23Usr"
      },
      "execution_count": null,
      "outputs": []
    },
    {
      "cell_type": "code",
      "source": [
        "val_emb.keys()"
      ],
      "metadata": {
        "colab": {
          "base_uri": "https://localhost:8080/"
        },
        "id": "mSc7YVLm1Zg3",
        "outputId": "d20bad83-e627-49a0-a079-0d0a9f28540e"
      },
      "execution_count": 65,
      "outputs": [
        {
          "output_type": "execute_result",
          "data": {
            "text/plain": [
              "dict_keys(['Croatia', 'Klek, Dubrovnik-Neretva, Croatia', 42.9455874, 17.5633131, 'Europe', 'Southern Europe', 'Papua New Guinea', 'Ayate, New Guinea', -4.0539161, 136.3547156, 'Oceania', 'Melanesia', 'Cayman Islands', 'Tulip Close, Grand Cayman, Cayman Islands', 19.3839486, -81.399913, 'Americas', 'Caribbean', 'Mauritius', 'Brown Sequard Street, Plaines Wilhems, Mauritius', -20.3235093, 57.5235259, 'Africa', 'Eastern Africa', 'Saint Martin', 'Impasse des Violenes, Saint Martin', 18.0772043, -63.0695667, 'Ukraine', 'Тунель, Zmiiv Raion, Kharkiv Oblast, Ukraine', 49.5903937, 36.5140179, 'Eastern Europe', 'Azerbaijan', 'Jafar Jabbarly, Sumgayit, Sumqayıt İnzibati Ərazisi, Azerbaijan', 40.5829764, 49.6758711, 'Asia', 'Western Asia', 'Romania', 'Strada Orhideei, Lupeni, Hunedoara, Romania', 45.345921, 23.1898889, 'Palestinian Territory', 'Temraz St, Rafah Governorate, Gaza Strip, Palestinian Territories', 31.2556914, 34.2876053, 'Luxembourg', 'Rue Principale, Wormeldange, Canton Grevenmacher, Luxembourg', 49.6084273, 6.4032928, 'Western Europe', 'Ghana', 'Jungle Avenue, Adenta, Greater Accra Region, Ghana', 5.6405195, -0.1510754, 'Western Africa', 'India', 'Kollumedu, Thiruvallur district, Tamil Nadu, India', 13.1634237, 80.1154064, 'Southern Asia', 'Mongolia', 'Erdeneburen, Erdeneburen, Khovd, Mongolia', 48.5036249, 91.448441, 'Eastern Asia', 'Saint Kitts Nevis', 'Great Salt Pond, Saint Kitts, Saint Kitts and Nevis', 17.2427392, -62.649613, 'Zimbabwe', 'Wedza Road, Marondera, Mashonaland East, Zimbabwe', -18.2728271, 31.3736301])"
            ]
          },
          "metadata": {},
          "execution_count": 65
        }
      ]
    },
    {
      "cell_type": "markdown",
      "source": [
        "## Extract labels and other data"
      ],
      "metadata": {
        "id": "6fmVC-4-ODoL"
      }
    },
    {
      "cell_type": "markdown",
      "source": [
        "#### Extract data from Graph"
      ],
      "metadata": {
        "id": "jkvcYZs6TciG"
      }
    },
    {
      "cell_type": "code",
      "source": [
        "def extract_data_from_graph(graph):\n",
        "    # Initialize dictionaries\n",
        "    country_labels = []\n",
        "    location_longitude = []\n",
        "    location_latitude = []\n",
        "    node_types = []\n",
        "    node_type_to_int = {}\n",
        "    type_counter = 0\n",
        "    # Collect unique node types from the graph\n",
        "    unique_node_types = set(graph.nodes[node].get('type', 'Unknown') for node in graph.nodes)\n",
        "    node_type_to_int = {node_type: i for i, node_type in enumerate(sorted(unique_node_types))}\n",
        "\n",
        "    for node, data in graph.nodes(data=True):\n",
        "        node_type = data.get('type', 'Unknown')\n",
        "        node_types.append(node_type_to_int.get(node_type, 0))\n",
        "        # Extract country labels if available\n",
        "        if data.get('type') == 'Country':\n",
        "            country_labels.append(node)\n",
        "        # Extract location coordinates if available\n",
        "        elif data.get('type') == 'Location_Longitude':\n",
        "            location_longitude.append(node)\n",
        "        elif data.get('type') == 'Location_Latitude':\n",
        "            location_latitude.append(node)\n",
        "\n",
        "\n",
        "\n",
        "\n",
        "    unique_countries = list(set(country_labels))\n",
        "    country_to_int = {country: i for i, country in enumerate(unique_countries)}\n",
        "    country_labels = [country_to_int[name] for name in country_labels]\n",
        "\n",
        "    return {\n",
        "            'country_labels':country_labels,\n",
        "            'location_latitudes':location_latitude,\n",
        "            'location_longitudes':location_longitude,\n",
        "            'node_types':node_types,\n",
        "            'node_type_to_int':node_type_to_int\n",
        "            }\n",
        "\n"
      ],
      "metadata": {
        "id": "NATRfhrqDQ5m"
      },
      "execution_count": 104,
      "outputs": []
    },
    {
      "cell_type": "code",
      "source": [
        "labels_train = extract_data_from_graph(train_kg)\n",
        "labels_val = extract_data_from_graph(val_kg)\n",
        "labels_test = extract_data_from_graph(test_kg)"
      ],
      "metadata": {
        "id": "xZKgmRZUPBtD"
      },
      "execution_count": 88,
      "outputs": []
    },
    {
      "cell_type": "code",
      "source": [
        "labels_train['node_type_to_int']"
      ],
      "metadata": {
        "colab": {
          "base_uri": "https://localhost:8080/"
        },
        "id": "0zFHGKySwWk8",
        "outputId": "a44af9a1-f5e9-4873-fc3b-f79b81548190"
      },
      "execution_count": 72,
      "outputs": [
        {
          "output_type": "execute_result",
          "data": {
            "text/plain": [
              "{'Country': 0,\n",
              " 'Location': 1,\n",
              " 'Location_Latitude': 2,\n",
              " 'Location_Longitude': 3,\n",
              " 'Region': 4,\n",
              " 'Sub_Region': 5}"
            ]
          },
          "metadata": {},
          "execution_count": 72
        }
      ]
    },
    {
      "cell_type": "markdown",
      "source": [
        "## Create PyG dataset"
      ],
      "metadata": {
        "id": "2qD4GMtR7zfa"
      }
    },
    {
      "cell_type": "code",
      "source": [
        "import torch\n",
        "from torch_geometric.data import Data, Dataset\n",
        "\n",
        "class CustomDataset(Dataset):\n",
        "    def __init__(self, data_list):\n",
        "        super(CustomDataset, self).__init__()\n",
        "        self.data_list = data_list\n",
        "\n",
        "    def len(self):\n",
        "        return len(self.data_list)\n",
        "\n",
        "    def get(self, idx):\n",
        "        return self.data_list[idx]\n",
        "\n",
        "def create_pyg_dataset(graph, embeddings, labels):\n",
        "    data_list = []\n",
        "\n",
        "    # Create a mapping from node to index\n",
        "    node_to_idx = {node: i for i, node in enumerate(graph.nodes())}\n",
        "\n",
        "    # Create edge index tensor\n",
        "    edge_index = []\n",
        "    for edge in graph.edges():\n",
        "        src, dst = edge\n",
        "        edge_index.append((node_to_idx[src], node_to_idx[dst]))\n",
        "    edge_index = torch.tensor(edge_index, dtype=torch.long).t().contiguous()\n",
        "\n",
        "    # Create node feature tensor from embeddings\n",
        "    num_nodes = len(graph.nodes())\n",
        "    embedding_dim = next(iter(embeddings.values())).shape[0]\n",
        "    x = torch.zeros(num_nodes, embedding_dim)\n",
        "    for node, idx in node_to_idx.items():\n",
        "        x[idx] = torch.tensor(embeddings[node], dtype=torch.float)\n",
        "\n",
        "    # Create label tensors\n",
        "    y = torch.zeros(num_nodes, 2)  # Assuming 2D coordinates (latitude, longitude)\n",
        "\n",
        "    for node, idx in node_to_idx.items():\n",
        "        if labels.get(node):\n",
        "            y[idx] = torch.tensor(labels[node], dtype=torch.float)\n",
        "\n",
        "    # Create PyG data object\n",
        "    data = Data(x=x, edge_index=edge_index, y=y)\n",
        "    data_list.append(data)\n",
        "\n",
        "    return CustomDataset(data_list)\n"
      ],
      "metadata": {
        "id": "Qb_HUygxTbzE"
      },
      "execution_count": 134,
      "outputs": []
    },
    {
      "cell_type": "code",
      "source": [
        "def create_pyg_dataset_complexe(graph, embeddings):\n",
        "    data_list = []\n",
        "\n",
        "    # Extract data from graph\n",
        "    extracted_data = extract_data_from_graph(graph)\n",
        "    location_latitudes = extracted_data['location_latitudes']\n",
        "    location_longitudes = extracted_data['location_longitudes']\n",
        "\n",
        "    # Create a mapping from node to index\n",
        "    node_to_idx = {node: i for i, node in enumerate(graph.nodes())}\n",
        "\n",
        "    # Create edge index tensor\n",
        "    edge_index = []\n",
        "    for edge in graph.edges():\n",
        "        src, dst = edge\n",
        "        edge_index.append((node_to_idx[src], node_to_idx[dst]))\n",
        "    edge_index = torch.tensor(edge_index, dtype=torch.long).t().contiguous()\n",
        "\n",
        "    # Create node feature tensor from embeddings\n",
        "    num_nodes = len(graph.nodes())\n",
        "    embedding_dim = next(iter(embeddings.values())).shape[0]\n",
        "    x = torch.zeros(num_nodes, embedding_dim)\n",
        "    for node, idx in node_to_idx.items():\n",
        "        print(node)\n",
        "        x[idx] = torch.tensor(embeddings[node], dtype=torch.float)\n",
        "\n",
        "    # Create label tensors for latitude and longitude\n",
        "    y_lat = torch.zeros(num_nodes, 1)  # Latitude\n",
        "    y_lon = torch.zeros(num_nodes, 1)  # Longitude\n",
        "\n",
        "    for node, idx in node_to_idx.items():\n",
        "        if node in location_latitudes:\n",
        "            y_lat[idx] = torch.tensor(float(node), dtype=torch.float)\n",
        "        if node in location_longitudes:\n",
        "            y_lon[idx] = torch.tensor(float(node), dtype=torch.float)\n",
        "\n",
        "    # Create PyG data object\n",
        "    data = Data(x=x, edge_index=edge_index, y_lat=y_lat, y_lon=y_lon)\n",
        "    data_list.append(data)\n",
        "\n",
        "    return CustomDataset(data_list)"
      ],
      "metadata": {
        "id": "OTIIXJpLLxdL"
      },
      "execution_count": null,
      "outputs": []
    },
    {
      "cell_type": "markdown",
      "source": [
        "## Build Lat Lon labels"
      ],
      "metadata": {
        "id": "BX3G_WPoc5eT"
      }
    },
    {
      "cell_type": "code",
      "source": [
        "def build_lat_lon_labels(df):\n",
        "  labels = {}\n",
        "  for idx, row in df.iterrows():\n",
        "    location = row['location']\n",
        "    location_latitude = row['location_latitude']\n",
        "    location_longitude = row['location_longitude']\n",
        "\n",
        "    if pd.notna(location) and pd.notna(location_latitude) and pd.notna(location_longitude):\n",
        "        labels[location] = [location_latitude, location_longitude]\n",
        "  return labels\n"
      ],
      "metadata": {
        "id": "JuEXUpI6OBj_"
      },
      "execution_count": 135,
      "outputs": []
    },
    {
      "cell_type": "code",
      "source": [
        "labels_train = build_lat_lon_labels(train_df)\n",
        "labels_val = build_lat_lon_labels(val_df)\n",
        "labels_test = build_lat_lon_labels(test_df)"
      ],
      "metadata": {
        "id": "OIRd9vIoOVJX"
      },
      "execution_count": 136,
      "outputs": []
    },
    {
      "cell_type": "code",
      "source": [
        "train_dataset = create_pyg_dataset(train_kg, train_emb, labels_train)\n",
        "val_dataset = create_pyg_dataset(val_kg, val_emb, labels_val)\n",
        "test_dataset = create_pyg_dataset(test_kg, test_emb, labels_test)"
      ],
      "metadata": {
        "id": "h3bqFXYv0jAb"
      },
      "execution_count": 138,
      "outputs": []
    },
    {
      "cell_type": "markdown",
      "source": [
        "## Baseline GCN Model"
      ],
      "metadata": {
        "id": "aV--cR0KHeMu"
      }
    },
    {
      "cell_type": "code",
      "source": [
        "import torch\n",
        "import torch.nn.functional as F\n",
        "from torch_geometric.nn import GCNConv\n",
        "from torch_geometric.data import DataLoader\n",
        "\n",
        "# Define the GCN model\n",
        "class GCN(torch.nn.Module):\n",
        "    def __init__(self, num_features, num_classes):\n",
        "        super(GCN, self).__init__()\n",
        "        self.conv1 = GCNConv(num_features, 128)\n",
        "        self.conv2 = GCNConv(128, 64)\n",
        "        self.fc = torch.nn.Linear(64, num_classes)\n",
        "\n",
        "    def forward(self, data):\n",
        "        x, edge_index = data.x, data.edge_index\n",
        "\n",
        "        x = self.conv1(x, edge_index)\n",
        "        x = F.relu(x)\n",
        "        x = F.dropout(x, training=self.training)\n",
        "\n",
        "        x = self.conv2(x, edge_index)\n",
        "        x = F.relu(x)\n",
        "        x = F.dropout(x, training=self.training)\n",
        "\n",
        "        x = self.fc(x)\n",
        "\n",
        "        return x\n",
        "\n",
        "\n",
        "\n",
        "\n"
      ],
      "metadata": {
        "id": "t67Re5MYTfPA"
      },
      "execution_count": 141,
      "outputs": []
    },
    {
      "cell_type": "markdown",
      "source": [
        "## Hyperparameters tuning"
      ],
      "metadata": {
        "id": "qWIjPA8qc_wN"
      }
    },
    {
      "cell_type": "code",
      "source": [
        "# Assume dataset is your PyG dataset and it has been split into train_dataset, val_dataset, and test_dataset\n",
        "train_loader = DataLoader(train_dataset, batch_size=8, shuffle=True)\n",
        "val_loader = DataLoader(val_dataset, batch_size=8, shuffle=False)\n",
        "test_loader = DataLoader(test_dataset, batch_size=8, shuffle=False)\n",
        "\n",
        "device = torch.device('cuda' if torch.cuda.is_available() else 'cpu')"
      ],
      "metadata": {
        "id": "2esThGkvBOKn"
      },
      "execution_count": 163,
      "outputs": []
    },
    {
      "cell_type": "code",
      "source": [
        "import optuna\n",
        "\n",
        "# Objective function to optimize\n",
        "def objective(trial):\n",
        "    # Hyperparameters to tune\n",
        "\n",
        "    learning_rate = trial.suggest_float(\"lr\", 1e-5, 1e-1, log=True)\n",
        "    dropout_rate = trial.suggest_float(\"dropout\", 0.2, 0.5)\n",
        "    optimizer = trial.suggest_categorical(\"optimizer\",['adam', 'sgd', 'rmsprop', 'adagrad'])\n",
        "    scheduler = trial.suggest_categorical(\"scheduler\",['none', 'step', 'cos'])\n",
        "\n",
        "    # Initialize and train GCN model\n",
        "    model = GCN(num_features, num_classes).to(device)\n",
        "    optimizer = torch.optim.Adam(model.parameters(), lr=learning_rate)\n",
        "\n",
        "    for epoch in range(50):  # Fixed number of epochs\n",
        "        model.train()\n",
        "        for batch in train_loader:\n",
        "            batch.to(device)\n",
        "            optimizer.zero_grad()\n",
        "            out = model(batch)\n",
        "            loss = F.mse_loss(out, batch.y)  # Assuming regression problem\n",
        "            loss.backward()\n",
        "            optimizer.step()\n",
        "\n",
        "        # Validation\n",
        "        model.eval()\n",
        "        val_loss = 0\n",
        "        for batch in val_loader:\n",
        "            batch.to(device)\n",
        "            with torch.no_grad():\n",
        "                pred = model(batch)\n",
        "                loss = F.mse_loss(pred, batch.y)\n",
        "                val_loss += loss.item() * batch.num_graphs\n",
        "        val_loss /= len(val_loader.dataset)\n",
        "\n",
        "        trial.report(val_loss, epoch)\n",
        "\n",
        "        # Handle pruning based on the intermediate value.\n",
        "        if trial.should_prune():\n",
        "            raise optuna.exceptions.TrialPruned()\n",
        "\n",
        "    return val_loss\n",
        "\n",
        "# Initialize Optuna study\n",
        "study = optuna.create_study(direction=\"minimize\")\n",
        "study.optimize(objective, n_trials=100)\n",
        "\n",
        "# Results\n",
        "print(f\"Number of finished trials: {len(study.trials)}\")\n",
        "print(f\"Best trial:\")\n",
        "trial = study.best_trial\n",
        "\n",
        "print(f\"Value: {trial.value}\")\n",
        "print(\"Params: \")\n",
        "for key, value in trial.params.items():\n",
        "    print(f\"    {key}: {value}\")\n",
        "\n"
      ],
      "metadata": {
        "id": "iJ2-TAy_dCHZ"
      },
      "execution_count": null,
      "outputs": []
    },
    {
      "cell_type": "code",
      "source": [
        "best_trial = study.best_trial\n",
        "best_lr = best_trial.params['lr']\n",
        "best_dropout = best_trial.params['dropout']\n",
        "best_optimizer = best_trial.params['optimizer']\n",
        "best_scheduler = best_trial.params['scheduler']"
      ],
      "metadata": {
        "id": "UgO8ZNwcgjQW"
      },
      "execution_count": 174,
      "outputs": []
    },
    {
      "cell_type": "markdown",
      "source": [
        "## Training"
      ],
      "metadata": {
        "id": "2yJ3bBsl-jQ4"
      }
    },
    {
      "cell_type": "code",
      "source": [
        "from tqdm import tqdm\n",
        "import matplotlib.pyplot as plt\n",
        "import torch\n",
        "import torch.nn.functional as F\n",
        "from torch_geometric.data import DataLoader\n",
        "\n",
        "# Assume study is your Optuna study object\n",
        "best_trial = study.best_trial\n",
        "\n",
        "best_lr = best_trial.params['lr']\n",
        "best_dropout = best_trial.params['dropout']\n",
        "best_optimizer = best_trial.params['optimizer']\n",
        "best_scheduler = best_trial.params['scheduler']\n",
        "\n",
        "# Initialize model, optimizer, and data loader\n",
        "num_features = train_dataset.num_features\n",
        "num_classes = 2  # For latitude and longitude\n",
        "model = GCN(num_features, num_classes).to(device)"
      ],
      "metadata": {
        "colab": {
          "base_uri": "https://localhost:8080/",
          "height": 35
        },
        "id": "-7J4JpGFhxHd",
        "outputId": "a2d7a02f-6f73-417f-a8d9-004f7e1c8512"
      },
      "execution_count": 175,
      "outputs": [
        {
          "output_type": "execute_result",
          "data": {
            "text/plain": [
              "'step'"
            ],
            "application/vnd.google.colaboratory.intrinsic+json": {
              "type": "string"
            }
          },
          "metadata": {},
          "execution_count": 175
        }
      ]
    },
    {
      "cell_type": "code",
      "source": [
        "num_features = train_dataset.num_features  # Replace with the number of features in your node feature matrix\n",
        "num_classes = 2  # For latitude and longitude\n",
        "model = GCN(num_features, num_classes).to(device)\n",
        "\n",
        "if best_optimizer == 'adam':\n",
        "    optimizer = torch.optim.Adam(model.parameters(), lr=best_lr)\n",
        "elif best_optimizer == 'sgd':\n",
        "    optimizer = torch.optim.SGD(model.parameters(), lr=best_lr)\n",
        "elif best_optimizer == 'rmsprop':\n",
        "    optimizer = torch.optim.RMSprop(model.parameters(), lr=best_lr)\n",
        "elif best_optimizer == 'adagrad':\n",
        "    optimizer = torch.optim.Adagrad(model.parameters(), lr=best_lr)\n",
        "\n",
        "\n",
        "if best_scheduler == 'step':\n",
        "    scheduler = torch.optim.lr_scheduler.StepLR(optimizer, step_size=30, gamma=0.1)\n",
        "elif best_scheduler == 'cos':\n",
        "    scheduler = torch.optim.lr_scheduler.CosineAnnealingLR(optimizer, step_size=30, gamma=0.1)\n",
        "elif best_scheduler == 'none':\n",
        "    scheduler = None\n",
        "\n",
        "\n",
        "\n",
        "train_loader = DataLoader(train_dataset, batch_size=32, shuffle=True)\n",
        "val_loader = DataLoader(val_dataset, batch_size=32, shuffle=False)\n",
        "test_loader = DataLoader(test_dataset, batch_size=32, shuffle=False)\n",
        "\n",
        "num_epoch = 300\n",
        "train_loss_values = []\n",
        "val_loss_values = []\n",
        "\n",
        "# Training loop\n",
        "num_epochs = 300\n",
        "for epoch in tqdm(range(num_epochs), desc=\"Training\", unit=\"epoch\"):\n",
        "    model.train()\n",
        "    train_epoch_loss = 0\n",
        "    for batch in train_loader:\n",
        "        batch.to(device)\n",
        "        optimizer.zero_grad()\n",
        "        out = model(batch)\n",
        "        loss = F.mse_loss(out, batch.y)\n",
        "        loss.backward()\n",
        "        optimizer.step()\n",
        "        train_epoch_loss += loss.item() * batch.num_graphs\n",
        "\n",
        "    train_epoch_loss /= len(train_loader.dataset)\n",
        "    train_loss_values.append(train_epoch_loss)\n",
        "\n",
        "    # Validation loop\n",
        "    model.eval()\n",
        "    val_epoch_loss = 0\n",
        "    with torch.no_grad():\n",
        "        for batch in val_loader:\n",
        "            batch.to(device)\n",
        "            out = model(batch)\n",
        "            loss = F.mse_loss(out, batch.y)\n",
        "            val_epoch_loss += loss.item() * batch.num_graphs\n",
        "\n",
        "    val_epoch_loss /= len(val_loader.dataset)\n",
        "    val_loss_values.append(val_epoch_loss)\n",
        "\n",
        "# Plotting the training and validation loss\n",
        "plt.figure(figsize=(10, 5))\n",
        "plt.plot(range(1, num_epochs + 1), train_loss_values, label='Training Loss')\n",
        "plt.plot(range(1, num_epochs + 1), val_loss_values, label='Validation Loss')\n",
        "plt.xlabel('Epoch')\n",
        "plt.ylabel('Mean Squared Error Loss')\n",
        "plt.title('Loss Over Time')\n",
        "plt.legend()\n",
        "plt.show()\n",
        "\n",
        "# Testing loop\n",
        "model.eval()\n",
        "test_loss = 0\n",
        "with torch.no_grad():\n",
        "    for batch in test_loader:\n",
        "        batch.to(device)\n",
        "        out = model(batch)\n",
        "        loss = F.mse_loss(out, batch.y)\n",
        "        test_loss += loss.item() * batch.num_graphs\n",
        "\n",
        "test_loss /= len(test_loader.dataset)\n",
        "print(f\"Test Loss: {test_loss}\")\n"
      ],
      "metadata": {
        "colab": {
          "base_uri": "https://localhost:8080/",
          "height": 523
        },
        "id": "tf2Yu0ihgtoY",
        "outputId": "9bc65dce-b503-44c4-93ce-5fca704c6ae3"
      },
      "execution_count": 177,
      "outputs": [
        {
          "output_type": "stream",
          "name": "stderr",
          "text": [
            "Training: 100%|██████████| 300/300 [00:02<00:00, 117.02epoch/s]\n"
          ]
        },
        {
          "output_type": "display_data",
          "data": {
            "text/plain": [
              "<Figure size 1000x500 with 1 Axes>"
            ],
            "image/png": "[encoded data removed]"
          },
          "metadata": {}
        },
        {
          "output_type": "stream",
          "name": "stdout",
          "text": [
            "Test Loss: 295.67999267578125\n"
          ]
        }
      ]
    },
    {
      "cell_type": "code",
      "source": [
        "from sklearn.metrics import mean_absolute_error, mean_squared_error, r2_score\n",
        "import numpy as np\n",
        "\n",
        "model.eval()\n",
        "with torch.no_grad():\n",
        "    predictions = model(test_dataset.get(0)).cpu().numpy()\n",
        "    labels = test_dataset.get(0).y.cpu().numpy()\n",
        "\n",
        "# Calculate MAE, MSE, RMSE, and R-Squared\n",
        "mae = mean_absolute_error(labels, predictions)\n",
        "mse = mean_squared_error(labels, predictions)\n",
        "rmse = np.sqrt(mse)\n",
        "r2 = r2_score(labels, predictions)\n",
        "\n",
        "print(f\"MAE: {mae}, MSE: {mse}, RMSE: {rmse}, R-Squared: {r2}\")"
      ],
      "metadata": {
        "colab": {
          "base_uri": "https://localhost:8080/"
        },
        "id": "CNtI-cI6FZIV",
        "outputId": "eb8a55e5-2f1b-41cb-d7a4-8163b1ece93a"
      },
      "execution_count": 178,
      "outputs": [
        {
          "output_type": "stream",
          "name": "stdout",
          "text": [
            "MAE: 7.608048439025879, MSE: 295.6799621582031, RMSE: 17.19534683227539, R-Squared: 0.40984501754489533\n"
          ]
        }
      ]
    },
    {
      "cell_type": "markdown",
      "source": [
        "##  Descriptive Statistics Of the model with haversine_distances"
      ],
      "metadata": {
        "id": "pToPJhYwcOzL"
      }
    },
    {
      "cell_type": "code",
      "source": [
        "from math import radians, sin, cos, sqrt, atan2\n",
        "\n",
        "def haversine_distance(coord1, coord2):\n",
        "    R = 6371  # Radius of the Earth in km\n",
        "    lat1, lon1 = coord1\n",
        "    lat2, lon2 = coord2\n",
        "    dlat = radians(lat2 - lat1)\n",
        "    dlon = radians(lon2 - lon1)\n",
        "    a = sin(dlat/2)**2 + cos(radians(lat1)) * cos(radians(lat2)) * sin(dlon/2)**2\n",
        "    c = 2 * atan2(sqrt(a), sqrt(1-a))\n",
        "    return R * c\n",
        "\n",
        "# Calculate Haversine distances for all nodes\n",
        "haversine_distances = np.array([haversine_distance(true_coord, pred_coord) for true_coord, pred_coord in zip(labels, predictions)])\n",
        "\n",
        "print(f\"Mean Haversine Distance: {np.mean(haversine_distances)} km\")\n"
      ],
      "metadata": {
        "colab": {
          "base_uri": "https://localhost:8080/"
        },
        "id": "JfsqZQQ_VSLG",
        "outputId": "65058cf0-e441-4a5f-972b-913e5234266d"
      },
      "execution_count": 180,
      "outputs": [
        {
          "output_type": "stream",
          "name": "stdout",
          "text": [
            "Mean Haversine Distance: 1295.4565860081477 km\n"
          ]
        }
      ]
    },
    {
      "cell_type": "code",
      "source": [
        "import numpy as np\n",
        "from scipy import stats\n",
        "\n",
        "\n",
        "mean_distance = np.mean(haversine_distances)\n",
        "median_distance = np.median(haversine_distances)\n",
        "std_dev = np.std(haversine_distances)\n",
        "min_distance = np.min(haversine_distances)\n",
        "max_distance = np.max(haversine_distances)\n",
        "quartiles = np.percentile(haversine_distances, [25, 50, 75])\n",
        "skewness = stats.skew(haversine_distances)\n",
        "kurtosis = stats.kurtosis(haversine_distances)\n",
        "\n",
        "print(f\"Mean: {mean_distance}, Median: {median_distance}, Std Dev: {std_dev}\")\n",
        "print(f\"Min: {min_distance}, Max: {max_distance}\")\n",
        "print(f\"Quartiles: {quartiles}\")\n",
        "print(f\"Skewness: {skewness}, Kurtosis: {kurtosis}\")"
      ],
      "metadata": {
        "colab": {
          "base_uri": "https://localhost:8080/"
        },
        "id": "2bR8QlOtcGk4",
        "outputId": "d3ce92d1-f290-4111-8ca8-5acf27e7053b"
      },
      "execution_count": 181,
      "outputs": [
        {
          "output_type": "stream",
          "name": "stdout",
          "text": [
            "Mean: 1295.4565860081477, Median: 152.8296362883828, Std Dev: 2249.932249819579\n",
            "Min: 84.42509527691934, Max: 14593.908733143238\n",
            "Quartiles: [ 102.12263315  152.82963629 1558.18618865]\n",
            "Skewness: 3.4099996669781723, Kurtosis: 15.085643994989187\n"
          ]
        }
      ]
    },
    {
      "cell_type": "markdown",
      "source": [],
      "metadata": {
        "id": "byDAkexkupx8"
      }
    },
    {
      "cell_type": "markdown",
      "source": [
        "# Robust Models"
      ],
      "metadata": {
        "id": "AUD2-Qjmus3f"
      }
    },
    {
      "cell_type": "markdown",
      "source": [
        "## Generate the Knowledge Graph"
      ],
      "metadata": {
        "id": "IYzbztdEu4ZJ"
      }
    },
    {
      "cell_type": "code",
      "source": [],
      "metadata": {
        "id": "DKpISlu5uyS5"
      },
      "execution_count": null,
      "outputs": []
    },
    {
      "cell_type": "markdown",
      "source": [
        "## Generate Embeddings\n"
      ],
      "metadata": {
        "id": "JyO71jlfu7nq"
      }
    },
    {
      "cell_type": "code",
      "source": [],
      "metadata": {
        "id": "ZfVMPIxIu9ag"
      },
      "execution_count": null,
      "outputs": []
    },
    {
      "cell_type": "markdown",
      "source": [
        "##Extract labels and other data"
      ],
      "metadata": {
        "id": "r3x7SoZSu93R"
      }
    },
    {
      "cell_type": "code",
      "source": [],
      "metadata": {
        "id": "HNnlUJV-vAYa"
      },
      "execution_count": null,
      "outputs": []
    },
    {
      "cell_type": "markdown",
      "source": [
        "## Create PyG dataset"
      ],
      "metadata": {
        "id": "3xAniSOgvBHS"
      }
    },
    {
      "cell_type": "code",
      "source": [],
      "metadata": {
        "id": "oWkvtXFmvGRu"
      },
      "execution_count": null,
      "outputs": []
    },
    {
      "cell_type": "markdown",
      "source": [
        "## Build Lat Lon Labels"
      ],
      "metadata": {
        "id": "M5oh5qNqvA0T"
      }
    },
    {
      "cell_type": "code",
      "source": [],
      "metadata": {
        "id": "0Dk2p4RxvJP3"
      },
      "execution_count": null,
      "outputs": []
    },
    {
      "cell_type": "markdown",
      "source": [
        "## Robuste Models"
      ],
      "metadata": {
        "id": "KiLV-hWyvJnW"
      }
    },
    {
      "cell_type": "markdown",
      "source": [
        "### GCN"
      ],
      "metadata": {
        "id": "OB23fa1cvPDy"
      }
    },
    {
      "cell_type": "code",
      "source": [],
      "metadata": {
        "id": "1y5A3pEmvNjr"
      },
      "execution_count": null,
      "outputs": []
    },
    {
      "cell_type": "markdown",
      "source": [
        "### GRaphSage"
      ],
      "metadata": {
        "id": "xQohBIJAvR3r"
      }
    },
    {
      "cell_type": "code",
      "source": [],
      "metadata": {
        "id": "Jj81oJKYvUJw"
      },
      "execution_count": null,
      "outputs": []
    },
    {
      "cell_type": "markdown",
      "source": [
        "### GAT Model"
      ],
      "metadata": {
        "id": "6rP-azUpvXUI"
      }
    },
    {
      "cell_type": "code",
      "source": [],
      "metadata": {
        "id": "3sCU2Tb2vZTn"
      },
      "execution_count": null,
      "outputs": []
    },
    {
      "cell_type": "markdown",
      "source": [],
      "metadata": {
        "id": "_-E8Dg0NvmB3"
      }
    },
    {
      "cell_type": "markdown",
      "source": [
        "# Multi Tasks Models"
      ],
      "metadata": {
        "id": "yfnydPLBvwCf"
      }
    },
    {
      "cell_type": "code",
      "source": [],
      "metadata": {
        "id": "e5XFgLJ0vz8U"
      },
      "execution_count": null,
      "outputs": []
    }
  ]
}