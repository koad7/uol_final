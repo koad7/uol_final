{
  "nbformat": 4,
  "nbformat_minor": 0,
  "metadata": {
    "colab": {
      "provenance": [],
      "gpuType": "T4",
      "authorship_tag": "ABX9TyPUY+FZNFvDhipnR3WGCq7u",
      "include_colab_link": true
    },
    "kernelspec": {
      "name": "python3",
      "display_name": "Python 3"
    },
    "language_info": {
      "name": "python"
    },
    "accelerator": "GPU"
  },
  "cells": [
    {
      "cell_type": "markdown",
      "metadata": {
        "id": "view-in-github",
        "colab_type": "text"
      },
      "source": [
        "<a href=\"https://colab.research.google.com/github/koad7/uol_final/blob/main/FINAL_UOL.ipynb\" target=\"_parent\"><img src=\"https://colab.research.google.com/assets/colab-badge.svg\" alt=\"Open In Colab\"/></a>"
      ]
    },
    {
      "cell_type": "code",
      "execution_count": 24,
      "metadata": {
        "id": "O7m8lrqNReRC",
        "colab": {
          "base_uri": "https://localhost:8080/"
        },
        "outputId": "9866e8ad-a2ad-459a-ff33-fc64aaa2a163"
      },
      "outputs": [
        {
          "output_type": "stream",
          "name": "stdout",
          "text": [
            "\u001b[2K     \u001b[90m━━━━━━━━━━━━━━━━━━━━━━━━━━━━━━━━━━━━━━━━\u001b[0m \u001b[32m7.6/7.6 MB\u001b[0m \u001b[31m66.6 MB/s\u001b[0m eta \u001b[36m0:00:00\u001b[0m\n",
            "\u001b[2K     \u001b[90m━━━━━━━━━━━━━━━━━━━━━━━━━━━━━━━━━━━━━━\u001b[0m \u001b[32m295.0/295.0 kB\u001b[0m \u001b[31m33.0 MB/s\u001b[0m eta \u001b[36m0:00:00\u001b[0m\n",
            "\u001b[2K     \u001b[90m━━━━━━━━━━━━━━━━━━━━━━━━━━━━━━━━━━━━━━━━\u001b[0m \u001b[32m7.8/7.8 MB\u001b[0m \u001b[31m110.1 MB/s\u001b[0m eta \u001b[36m0:00:00\u001b[0m\n",
            "\u001b[2K     \u001b[90m━━━━━━━━━━━━━━━━━━━━━━━━━━━━━━━━━━━━━━━━\u001b[0m \u001b[32m1.3/1.3 MB\u001b[0m \u001b[31m31.9 MB/s\u001b[0m eta \u001b[36m0:00:00\u001b[0m\n",
            "\u001b[2K     \u001b[90m━━━━━━━━━━━━━━━━━━━━━━━━━━━━━━━━━━━━━━━━\u001b[0m \u001b[32m2.0/2.0 MB\u001b[0m \u001b[31m12.5 MB/s\u001b[0m eta \u001b[36m0:00:00\u001b[0m\n",
            "\u001b[?25h"
          ]
        }
      ],
      "source": [
        "!pip install -q  transformers\n",
        "!pip install -q nltk node2vec\n",
        "!pip install -q haversine"
      ]
    },
    {
      "cell_type": "code",
      "source": [
        "from pathlib import Path\n",
        "from google.colab import drive\n",
        "import os\n",
        "import pandas as pd\n",
        "import re\n",
        "import networkx as nx\n",
        "import matplotlib.pyplot as plt\n",
        "import networkx as nx\n",
        "import requests\n",
        "import pickle\n",
        "import copy\n",
        "import numpy as np\n",
        "import gc"
      ],
      "metadata": {
        "id": "AZ2xgLnCRojn"
      },
      "execution_count": 1,
      "outputs": []
    },
    {
      "cell_type": "code",
      "source": [
        "if not os.path.exists('/content/drive'):\n",
        "    drive.mount('/content/drive')"
      ],
      "metadata": {
        "colab": {
          "base_uri": "https://localhost:8080/"
        },
        "id": "ox6P-n_2Rtyl",
        "outputId": "03b6abc6-494b-45bf-f138-9bd23551dc80"
      },
      "execution_count": 2,
      "outputs": [
        {
          "output_type": "stream",
          "name": "stdout",
          "text": [
            "Mounted at /content/drive\n"
          ]
        }
      ]
    },
    {
      "cell_type": "code",
      "source": [
        "DATA_DIR=Path('/content/drive/MyDrive/MSc_DATA_SCIENCE/FINAL_PROJECT/f_work/data/')\n",
        "FINAL_DIR=Path('/content/drive/MyDrive/MSc_DATA_SCIENCE/FINAL_PROJECT/f_work/data/final_work')\n",
        "WORKDIR_DIR=Path('/content/drive/MyDrive/MSc_DATA_SCIENCE/FINAL_PROJECT/f_work/')"
      ],
      "metadata": {
        "id": "cytWzMs_RuHf"
      },
      "execution_count": 3,
      "outputs": []
    },
    {
      "cell_type": "code",
      "source": [
        "what = 'read'\n",
        "if what == 'read':\n",
        "  train_10_15 = pd.read_parquet(f'{FINAL_DIR}/training_testing_val_10_15_20_25_40_50_80_90/train_10_15.parquet')\n",
        "  test_10_15 = pd.read_parquet(f'{FINAL_DIR}/training_testing_val_10_15_20_25_40_50_80_90/test_10_15.parquet')\n",
        "  val_10_15 = pd.read_parquet(f'{FINAL_DIR}/training_testing_val_10_15_20_25_40_50_80_90/val_10_15.parquet')\n"
      ],
      "metadata": {
        "id": "PToWdYDeSBZt"
      },
      "execution_count": 4,
      "outputs": []
    },
    {
      "cell_type": "code",
      "source": [
        "train_df = train_10_15[[ 'country',\n",
        "        'location','location_latitude',\n",
        "       'location_longitude',  'osm_id',  'region',  'sub_region' ]][:70]\n",
        "val_df = val_10_15[[ 'country',\n",
        "        'location','location_latitude',\n",
        "       'location_longitude',  'osm_id',  'region',  'sub_region' ]][:15]\n",
        "test_df = val_10_15[[ 'country',\n",
        "        'location','location_latitude',\n",
        "       'location_longitude',  'osm_id',  'region',  'sub_region' ]][:15]"
      ],
      "metadata": {
        "id": "NxvKjQVfyLL6"
      },
      "execution_count": 81,
      "outputs": []
    },
    {
      "cell_type": "markdown",
      "source": [
        "# Generate the knowledge graph"
      ],
      "metadata": {
        "id": "8kjnZZoY2286"
      }
    },
    {
      "cell_type": "code",
      "source": [
        "def create_knowledge_graph(df):\n",
        "    G = nx.DiGraph()\n",
        "\n",
        "    for idx, row in df.iterrows():\n",
        "        country = row['country']\n",
        "        location = row['location']\n",
        "        location_latitude = row['location_latitude']\n",
        "        location_longitude = row['location_longitude']\n",
        "        osm_id = row['osm_id']\n",
        "        region = row['region']\n",
        "        sub_region = row['sub_region']\n",
        "\n",
        "\n",
        "        # Add nodes\n",
        "        if pd.notna(country) and country!= '':\n",
        "            G.add_node(country, country=country, type='Country')\n",
        "        if pd.notna(location) and location!= '':\n",
        "            G.add_node(location, location=location, type='Location', osm_id=osm_id)\n",
        "        if pd.notna(location_latitude) and location_latitude!= '':\n",
        "            G.add_node(location_latitude, type='Location_Latitude')\n",
        "        if pd.notna(location_longitude) and location_longitude!= '':\n",
        "            G.add_node(location_longitude, type='Location_Longitude')\n",
        "        if pd.notna(region) and region!= '':\n",
        "            G.add_node(region, region=region, type='Region')\n",
        "        if pd.notna(sub_region) and sub_region!= '':\n",
        "            G.add_node(sub_region, sub_region=sub_region, type='Sub_Region')\n",
        "\n",
        "        # Add edges\n",
        "        if (pd.notna(country) and country!='') and (pd.notna(location) and location!=''):\n",
        "            G.add_edge(country, location, relation='has')\n",
        "        if (pd.notna(location) and location!='') and (pd.notna(location_latitude) and location_latitude!=''):\n",
        "            G.add_edge(location, location_latitude, relation='has_latitude')\n",
        "        if (pd.notna(location) and location!='') and (pd.notna(location_longitude) and location_longitude!=''):\n",
        "            G.add_edge(location, location_longitude, relation='has_longitude')\n",
        "        if (pd.notna(country) and country!='') and (pd.notna(region) and region!=''):\n",
        "            G.add_edge(country, region, relation='is_in')\n",
        "        if (pd.notna(region) and region!='') and (pd.notna(sub_region) and sub_region!=''):\n",
        "            G.add_edge(region, sub_region, relation='is_in')\n",
        "\n",
        "    return G\n",
        "\n",
        "\n",
        "\n",
        "    # Draw the graph"
      ],
      "metadata": {
        "id": "KcrGFcQmSEl0"
      },
      "execution_count": 82,
      "outputs": []
    },
    {
      "cell_type": "code",
      "source": [
        "# Create the Knowledge Graph\n",
        "train_kg = create_knowledge_graph(train_df)\n",
        "val_kg = create_knowledge_graph(val_df)\n",
        "test_kg = create_knowledge_graph(test_df)"
      ],
      "metadata": {
        "id": "0C5h4orZOm_4"
      },
      "execution_count": 84,
      "outputs": []
    },
    {
      "cell_type": "code",
      "source": [
        "# Example usage\n",
        "G = create_knowledge_graph(train_df[:1])\n",
        "nx.draw(G, with_labels=True)\n",
        "plt.show()\n"
      ],
      "metadata": {
        "colab": {
          "base_uri": "https://localhost:8080/",
          "height": 516
        },
        "id": "B-NloOKA2JrY",
        "outputId": "46ec6f58-0f23-4eaa-d25a-327c260a3cdf"
      },
      "execution_count": 61,
      "outputs": [
        {
          "output_type": "display_data",
          "data": {
            "text/plain": [
              "<Figure size 640x480 with 1 Axes>"
            ],
            "image/png": "[encoded data removed]"
          },
          "metadata": {}
        }
      ]
    },
    {
      "cell_type": "code",
      "source": [
        "import torch\n",
        "torch_ver = torch.__version__\n",
        "if 'IS_GRADESCOPE_ENV' not in os.environ:\n",
        "  !pip install -q torch-scatter -f https://pytorch-geometric.com/whl/torch-{torch_ver}.html\n",
        "  !pip install -q torch-sparse -f https://pytorch-geometric.com/whl/torch-{torch_ver}.html\n",
        "  !pip install -q torch-geometric\n",
        "  !pip install -q git+https://github.com/snap-stanford/deepsnap.git\n",
        "  !pip install -q transformers"
      ],
      "metadata": {
        "colab": {
          "base_uri": "https://localhost:8080/"
        },
        "id": "dunjBotpSULp",
        "outputId": "1d9fbd7f-4b84-4855-890d-363637e3afdc"
      },
      "execution_count": 62,
      "outputs": [
        {
          "output_type": "stream",
          "name": "stdout",
          "text": [
            "  Preparing metadata (setup.py) ... \u001b[?25l\u001b[?25hdone\n"
          ]
        }
      ]
    },
    {
      "cell_type": "markdown",
      "source": [
        "# Generate embeddings"
      ],
      "metadata": {
        "id": "TsG_ivXjTLR3"
      }
    },
    {
      "cell_type": "markdown",
      "source": [
        "### Embedding"
      ],
      "metadata": {
        "id": "_pUuc1TyTNwa"
      }
    },
    {
      "cell_type": "code",
      "source": [
        "from transformers import DistilBertTokenizer, DistilBertModel\n",
        "from concurrent.futures import ThreadPoolExecutor, as_completed\n",
        "from queue import Queue\n",
        "from threading import Thread\n",
        "import torch\n",
        "from transformers import DistilBertTokenizer, DistilBertModel\n",
        "import networkx as nx\n",
        "import numpy as np\n",
        "from tqdm import tqdm\n",
        "\n",
        "\n",
        "\n",
        "def generate_kge_with_distilbert(graph):\n",
        "    # Initialize DistilBERT tokenizer and model\n",
        "    tokenizer = DistilBertTokenizer.from_pretrained('distilbert-base-multilingual-cased')\n",
        "    model = DistilBertModel.from_pretrained('distilbert-base-multilingual-cased')\n",
        "\n",
        "    # Dictionary to store embeddings\n",
        "    node_embeddings = {}\n",
        "\n",
        "    # Generate embeddings for each node\n",
        "    for node in graph.nodes():\n",
        "        # Convert node to text (assuming the node is already in string format or convertible to string)\n",
        "        node_text = str(node)\n",
        "\n",
        "        # Tokenize and generate output\n",
        "        inputs = tokenizer(node_text, return_tensors=\"pt\", padding=True, truncation=True)\n",
        "        outputs = model(**inputs)\n",
        "\n",
        "        # Extract the hidden state for the [CLS] token (first token)\n",
        "        cls_embedding = outputs.last_hidden_state[:, 0, :].squeeze().detach().numpy()\n",
        "\n",
        "        # Store the embedding\n",
        "        node_embeddings[node] = cls_embedding\n",
        "\n",
        "    return node_embeddings\n"
      ],
      "metadata": {
        "id": "vzfh4a-HTIY8"
      },
      "execution_count": 85,
      "outputs": []
    },
    {
      "cell_type": "code",
      "source": [
        "train_emb = generate_kge_with_distilbert(train_kg)\n",
        "val_emb = generate_kge_with_distilbert(val_kg)\n",
        "test_emb = generate_kge_with_distilbert(test_kg)"
      ],
      "metadata": {
        "id": "Ji39R-qYOsKA"
      },
      "execution_count": 86,
      "outputs": []
    },
    {
      "cell_type": "code",
      "source": [
        "val_emb['Ukraine']"
      ],
      "metadata": {
        "id": "ocRBAYQ23Usr"
      },
      "execution_count": null,
      "outputs": []
    },
    {
      "cell_type": "code",
      "source": [
        "val_emb.keys()"
      ],
      "metadata": {
        "id": "mSc7YVLm1Zg3",
        "outputId": "d20bad83-e627-49a0-a079-0d0a9f28540e",
        "colab": {
          "base_uri": "https://localhost:8080/"
        }
      },
      "execution_count": 65,
      "outputs": [
        {
          "output_type": "execute_result",
          "data": {
            "text/plain": [
              "dict_keys(['Croatia', 'Klek, Dubrovnik-Neretva, Croatia', 42.9455874, 17.5633131, 'Europe', 'Southern Europe', 'Papua New Guinea', 'Ayate, New Guinea', -4.0539161, 136.3547156, 'Oceania', 'Melanesia', 'Cayman Islands', 'Tulip Close, Grand Cayman, Cayman Islands', 19.3839486, -81.399913, 'Americas', 'Caribbean', 'Mauritius', 'Brown Sequard Street, Plaines Wilhems, Mauritius', -20.3235093, 57.5235259, 'Africa', 'Eastern Africa', 'Saint Martin', 'Impasse des Violenes, Saint Martin', 18.0772043, -63.0695667, 'Ukraine', 'Тунель, Zmiiv Raion, Kharkiv Oblast, Ukraine', 49.5903937, 36.5140179, 'Eastern Europe', 'Azerbaijan', 'Jafar Jabbarly, Sumgayit, Sumqayıt İnzibati Ərazisi, Azerbaijan', 40.5829764, 49.6758711, 'Asia', 'Western Asia', 'Romania', 'Strada Orhideei, Lupeni, Hunedoara, Romania', 45.345921, 23.1898889, 'Palestinian Territory', 'Temraz St, Rafah Governorate, Gaza Strip, Palestinian Territories', 31.2556914, 34.2876053, 'Luxembourg', 'Rue Principale, Wormeldange, Canton Grevenmacher, Luxembourg', 49.6084273, 6.4032928, 'Western Europe', 'Ghana', 'Jungle Avenue, Adenta, Greater Accra Region, Ghana', 5.6405195, -0.1510754, 'Western Africa', 'India', 'Kollumedu, Thiruvallur district, Tamil Nadu, India', 13.1634237, 80.1154064, 'Southern Asia', 'Mongolia', 'Erdeneburen, Erdeneburen, Khovd, Mongolia', 48.5036249, 91.448441, 'Eastern Asia', 'Saint Kitts Nevis', 'Great Salt Pond, Saint Kitts, Saint Kitts and Nevis', 17.2427392, -62.649613, 'Zimbabwe', 'Wedza Road, Marondera, Mashonaland East, Zimbabwe', -18.2728271, 31.3736301])"
            ]
          },
          "metadata": {},
          "execution_count": 65
        }
      ]
    },
    {
      "cell_type": "markdown",
      "source": [
        "# Extract labels and other data"
      ],
      "metadata": {
        "id": "6fmVC-4-ODoL"
      }
    },
    {
      "cell_type": "markdown",
      "source": [
        "#### Extract data from Graph"
      ],
      "metadata": {
        "id": "jkvcYZs6TciG"
      }
    },
    {
      "cell_type": "code",
      "source": [
        "def extract_data_from_graph(graph):\n",
        "    # Initialize dictionaries\n",
        "    country_labels = []\n",
        "    location_longitude = []\n",
        "    location_latitude = []\n",
        "    node_types = []\n",
        "    node_type_to_int = {}\n",
        "    type_counter = 0\n",
        "    # Collect unique node types from the graph\n",
        "    unique_node_types = set(graph.nodes[node].get('type', 'Unknown') for node in graph.nodes)\n",
        "    node_type_to_int = {node_type: i for i, node_type in enumerate(sorted(unique_node_types))}\n",
        "\n",
        "    for node, data in graph.nodes(data=True):\n",
        "        node_type = data.get('type', 'Unknown')\n",
        "        node_types.append(node_type_to_int.get(node_type, 0))\n",
        "        # Extract country labels if available\n",
        "        if data.get('type') == 'Country':\n",
        "            country_labels.append(node)\n",
        "        # Extract location coordinates if available\n",
        "        elif data.get('type') == 'Location_Longitude':\n",
        "            location_longitude.append(node)\n",
        "        elif data.get('type') == 'Location_Latitude':\n",
        "            location_latitude.append(node)\n",
        "\n",
        "\n",
        "    unique_countries = list(set(country_labels))\n",
        "    country_to_int = {country: i for i, country in enumerate(unique_countries)}\n",
        "    country_labels = [country_to_int[name] for name in country_labels]\n",
        "\n",
        "    return {\n",
        "            'country_labels':country_labels,\n",
        "            'location_latitudes':location_latitude,\n",
        "            'location_longitudes':location_longitude,\n",
        "            'node_types':node_types,\n",
        "            'node_type_to_int':node_type_to_int\n",
        "            }\n",
        "\n"
      ],
      "metadata": {
        "id": "NATRfhrqDQ5m"
      },
      "execution_count": 87,
      "outputs": []
    },
    {
      "cell_type": "code",
      "source": [
        "labels_train = extract_data_from_graph(train_kg)\n",
        "labels_val = extract_data_from_graph(val_kg)\n",
        "labels_test = extract_data_from_graph(test_kg)"
      ],
      "metadata": {
        "id": "xZKgmRZUPBtD"
      },
      "execution_count": 88,
      "outputs": []
    },
    {
      "cell_type": "code",
      "source": [
        "labels_train['node_type_to_int']"
      ],
      "metadata": {
        "colab": {
          "base_uri": "https://localhost:8080/"
        },
        "id": "0zFHGKySwWk8",
        "outputId": "a44af9a1-f5e9-4873-fc3b-f79b81548190"
      },
      "execution_count": 72,
      "outputs": [
        {
          "output_type": "execute_result",
          "data": {
            "text/plain": [
              "{'Country': 0,\n",
              " 'Location': 1,\n",
              " 'Location_Latitude': 2,\n",
              " 'Location_Longitude': 3,\n",
              " 'Region': 4,\n",
              " 'Sub_Region': 5}"
            ]
          },
          "metadata": {},
          "execution_count": 72
        }
      ]
    },
    {
      "cell_type": "markdown",
      "source": [
        "# Create PyG dataset"
      ],
      "metadata": {
        "id": "2qD4GMtR7zfa"
      }
    },
    {
      "cell_type": "code",
      "source": [
        "import torch\n",
        "from torch_geometric.data import Data, Dataset\n",
        "\n",
        "class CustomDataset(Dataset):\n",
        "    def __init__(self, data_list):\n",
        "        super(CustomDataset, self).__init__()\n",
        "        self.data_list = data_list\n",
        "\n",
        "    def len(self):\n",
        "        return len(self.data_list)\n",
        "\n",
        "    def get(self, idx):\n",
        "        return self.data_list[idx]\n",
        "\n",
        "def create_pyg_dataset(graph, embeddings, labels):\n",
        "    data_list = []\n",
        "\n",
        "    # Create a mapping from node to index\n",
        "    node_to_idx = {node: i for i, node in enumerate(graph.nodes())}\n",
        "\n",
        "    # Create edge index tensor\n",
        "    edge_index = []\n",
        "    for edge in graph.edges():\n",
        "        src, dst = edge\n",
        "        edge_index.append((node_to_idx[src], node_to_idx[dst]))\n",
        "    edge_index = torch.tensor(edge_index, dtype=torch.long).t().contiguous()\n",
        "\n",
        "    # Create node feature tensor from embeddings\n",
        "    num_nodes = len(graph.nodes())\n",
        "    embedding_dim = next(iter(embeddings.values())).shape[0]\n",
        "    x = torch.zeros(num_nodes, embedding_dim)\n",
        "    for node, idx in node_to_idx.items():\n",
        "        x[idx] = torch.tensor(embeddings[node], dtype=torch.float)\n",
        "\n",
        "    # Create label tensors\n",
        "    y = torch.zeros(num_nodes, 2)  # Assuming 2D coordinates (latitude, longitude)\n",
        "\n",
        "    for node, idx in node_to_idx.items():\n",
        "        if labels.get(node):\n",
        "            y[idx] = torch.tensor(labels[node], dtype=torch.float)\n",
        "\n",
        "    # Create PyG data object\n",
        "    data = Data(x=x, edge_index=edge_index, y=y)\n",
        "    data_list.append(data)\n",
        "\n",
        "    return CustomDataset(data_list)\n",
        "\n"
      ],
      "metadata": {
        "id": "Qb_HUygxTbzE"
      },
      "execution_count": 89,
      "outputs": []
    },
    {
      "cell_type": "code",
      "source": [
        "train_dataset = create_pyg_dataset(train_kg, train_emb, labels_train)\n",
        "val_dataset = create_pyg_dataset(val_kg, val_emb, labels_val)\n",
        "test_dataset = create_pyg_dataset(test_kg, test_emb, labels_test)"
      ],
      "metadata": {
        "id": "h3bqFXYv0jAb"
      },
      "execution_count": 92,
      "outputs": []
    },
    {
      "cell_type": "markdown",
      "source": [
        "# Model"
      ],
      "metadata": {
        "id": "aV--cR0KHeMu"
      }
    },
    {
      "cell_type": "code",
      "source": [
        "import torch\n",
        "import torch.nn.functional as F\n",
        "from torch_geometric.nn import GCNConv\n",
        "from torch_geometric.data import DataLoader\n",
        "\n",
        "# Define the GCN model\n",
        "class GCN(torch.nn.Module):\n",
        "    def __init__(self, num_features, num_classes):\n",
        "        super(GCN, self).__init__()\n",
        "        self.conv1 = GCNConv(num_features, 128)\n",
        "        self.conv2 = GCNConv(128, 64)\n",
        "        self.fc = torch.nn.Linear(64, num_classes)\n",
        "\n",
        "    def forward(self, data):\n",
        "        x, edge_index = data.x, data.edge_index\n",
        "\n",
        "        x = self.conv1(x, edge_index)\n",
        "        x = F.relu(x)\n",
        "        x = F.dropout(x, training=self.training)\n",
        "\n",
        "        x = self.conv2(x, edge_index)\n",
        "        x = F.relu(x)\n",
        "        x = F.dropout(x, training=self.training)\n",
        "\n",
        "        x = self.fc(x)\n",
        "\n",
        "        return x\n",
        "\n",
        "#\n"
      ],
      "metadata": {
        "id": "t67Re5MYTfPA"
      },
      "execution_count": 93,
      "outputs": []
    },
    {
      "cell_type": "markdown",
      "source": [
        "# Training"
      ],
      "metadata": {
        "id": "2yJ3bBsl-jQ4"
      }
    },
    {
      "cell_type": "code",
      "source": [
        "# Assume dataset is your PyG dataset and it has been split into train_dataset, val_dataset, and test_dataset\n",
        "train_loader = DataLoader(train_dataset, batch_size=8, shuffle=True)\n",
        "val_loader = DataLoader(val_dataset, batch_size=8, shuffle=False)\n",
        "test_loader = DataLoader(test_dataset, batch_size=8, shuffle=False)\n",
        "\n",
        "device = torch.device('cuda' if torch.cuda.is_available() else 'cpu')\n",
        "\n",
        "\n",
        "\n",
        "# Initialize the model, optimizer, and other settings\n",
        "num_features = train_dataset.num_features\n",
        "num_classes = 2  # For latitude and longitude\n",
        "\n",
        "\n",
        "model = GCN().to(device)\n",
        "optimizer = torch.optim.Adam(model.parameters(), lr=0.01)\n",
        "criterion = torch.nn.MSELoss()  # Mean Squared Error Loss"
      ],
      "metadata": {
        "id": "2esThGkvBOKn",
        "outputId": "6796f532-d9d9-40c2-b0cd-280775ce3a17",
        "colab": {
          "base_uri": "https://localhost:8080/",
          "height": 288
        }
      },
      "execution_count": 94,
      "outputs": [
        {
          "output_type": "stream",
          "name": "stderr",
          "text": [
            "/usr/local/lib/python3.10/dist-packages/torch_geometric/deprecation.py:22: UserWarning: 'data.DataLoader' is deprecated, use 'loader.DataLoader' instead\n",
            "  warnings.warn(out)\n"
          ]
        },
        {
          "output_type": "error",
          "ename": "TypeError",
          "evalue": "ignored",
          "traceback": [
            "\u001b[0;31m---------------------------------------------------------------------------\u001b[0m",
            "\u001b[0;31mTypeError\u001b[0m                                 Traceback (most recent call last)",
            "\u001b[0;32m<ipython-input-94-b28f4caf4bbf>\u001b[0m in \u001b[0;36m<cell line: 7>\u001b[0;34m()\u001b[0m\n\u001b[1;32m      5\u001b[0m \u001b[0;34m\u001b[0m\u001b[0m\n\u001b[1;32m      6\u001b[0m \u001b[0mdevice\u001b[0m \u001b[0;34m=\u001b[0m \u001b[0mtorch\u001b[0m\u001b[0;34m.\u001b[0m\u001b[0mdevice\u001b[0m\u001b[0;34m(\u001b[0m\u001b[0;34m'cuda'\u001b[0m \u001b[0;32mif\u001b[0m \u001b[0mtorch\u001b[0m\u001b[0;34m.\u001b[0m\u001b[0mcuda\u001b[0m\u001b[0;34m.\u001b[0m\u001b[0mis_available\u001b[0m\u001b[0;34m(\u001b[0m\u001b[0;34m)\u001b[0m \u001b[0;32melse\u001b[0m \u001b[0;34m'cpu'\u001b[0m\u001b[0;34m)\u001b[0m\u001b[0;34m\u001b[0m\u001b[0;34m\u001b[0m\u001b[0m\n\u001b[0;32m----> 7\u001b[0;31m \u001b[0mmodel\u001b[0m \u001b[0;34m=\u001b[0m \u001b[0mGCN\u001b[0m\u001b[0;34m(\u001b[0m\u001b[0;34m)\u001b[0m\u001b[0;34m.\u001b[0m\u001b[0mto\u001b[0m\u001b[0;34m(\u001b[0m\u001b[0mdevice\u001b[0m\u001b[0;34m)\u001b[0m\u001b[0;34m\u001b[0m\u001b[0;34m\u001b[0m\u001b[0m\n\u001b[0m\u001b[1;32m      8\u001b[0m \u001b[0moptimizer\u001b[0m \u001b[0;34m=\u001b[0m \u001b[0mtorch\u001b[0m\u001b[0;34m.\u001b[0m\u001b[0moptim\u001b[0m\u001b[0;34m.\u001b[0m\u001b[0mAdam\u001b[0m\u001b[0;34m(\u001b[0m\u001b[0mmodel\u001b[0m\u001b[0;34m.\u001b[0m\u001b[0mparameters\u001b[0m\u001b[0;34m(\u001b[0m\u001b[0;34m)\u001b[0m\u001b[0;34m,\u001b[0m \u001b[0mlr\u001b[0m\u001b[0;34m=\u001b[0m\u001b[0;36m0.01\u001b[0m\u001b[0;34m)\u001b[0m\u001b[0;34m\u001b[0m\u001b[0;34m\u001b[0m\u001b[0m\n\u001b[1;32m      9\u001b[0m \u001b[0mcriterion\u001b[0m \u001b[0;34m=\u001b[0m \u001b[0mtorch\u001b[0m\u001b[0;34m.\u001b[0m\u001b[0mnn\u001b[0m\u001b[0;34m.\u001b[0m\u001b[0mMSELoss\u001b[0m\u001b[0;34m(\u001b[0m\u001b[0;34m)\u001b[0m  \u001b[0;31m# Mean Squared Error Loss\u001b[0m\u001b[0;34m\u001b[0m\u001b[0;34m\u001b[0m\u001b[0m\n",
            "\u001b[0;31mTypeError\u001b[0m: GCN.__init__() missing 2 required positional arguments: 'num_features' and 'num_classes'"
          ]
        }
      ]
    },
    {
      "cell_type": "code",
      "source": [
        "# Initialize the model, optimizer, and other settings\n",
        "num_features = kge_data_train.num_features\n",
        "num_classes = 2  # For latitude and longitude\n",
        "model = GCN(num_features, num_classes)\n",
        "optimizer = torch.optim.Adam(model.parameters(), lr=0.01)\n",
        "loader = DataLoader(kge_data_train, batch_size=32, shuffle=True)\n",
        "\n",
        "# Training loop\n",
        "for epoch in range(200):\n",
        "    model.train()\n",
        "    for batch in loader:\n",
        "        optimizer.zero_grad()\n",
        "        out = model(batch)\n",
        "        loss = F.mse_loss(out, batch.y)  # Using Mean Squared Error loss for regression\n",
        "        loss.backward()\n",
        "        optimizer.step()\n",
        "    print(f\"Epoch {epoch+1}, Loss: {loss.item()}\")"
      ],
      "metadata": {
        "id": "Xb5-uHGTYI5R"
      },
      "execution_count": null,
      "outputs": []
    },
    {
      "cell_type": "code",
      "source": [
        "\n",
        "\n",
        "# Validation function\n",
        "def validate(loader):\n",
        "    model.eval()\n",
        "    val_loss = 0\n",
        "\n",
        "    for data in loader:\n",
        "        data = data.to(device)\n",
        "        with torch.no_grad():\n",
        "            out = model(data)\n",
        "        loss = criterion(out, data.y)\n",
        "        val_loss += loss.item() * data.num_graphs\n",
        "\n",
        "    return val_loss / len(loader.dataset)\n",
        "\n",
        "# Test function\n",
        "def test(loader):\n",
        "    model.eval()\n",
        "    test_loss = 0\n",
        "\n",
        "    for data in loader:\n",
        "        data = data.to(device)\n",
        "        with torch.no_grad():\n",
        "            out = model(data)\n",
        "        loss = criterion(out, data.y)\n",
        "        test_loss += loss.item() * data.num_graphs\n",
        "\n",
        "    return test_loss / len(loader.dataset)"
      ],
      "metadata": {
        "id": "Rfxe17CQIP0A"
      },
      "execution_count": null,
      "outputs": []
    }
  ]
}